{
 "cells": [
  {
   "cell_type": "code",
   "execution_count": 1,
   "id": "db893ae9-0559-4a75-b06a-240f4cb76888",
   "metadata": {},
   "outputs": [],
   "source": [
    "import pandas as pd\n",
    "\n",
    "# 1. Load the datasets\n",
    "center_tract_data = pd.read_csv('PLACES__Local_Data_for_Better_Health__Census_Tract_Data_2024_release.csv')\n",
    "zip_tract_crosswalk = pd.read_excel('HUD 2020 Zip Code - Census Track Crosswalk.xlsx')\n",
    "life_expectancy = pd.read_csv('US_A.csv')"
   ]
  },
  {
   "cell_type": "code",
   "execution_count": 3,
   "id": "394c7f3d-927a-4065-a410-0da6928d64bd",
   "metadata": {},
   "outputs": [],
   "source": [
    "measure_category = {\n",
    "    'Current lack of health insurance among adults aged 18-64 years' : 'Healthcare Access and Quality',\n",
    "    'Visits to doctor for routine checkup within the past year among adults' : 'Healthcare Access and Quality',\n",
    "    'Mammography use among women aged 50-74 years' : 'Healthcare Access and Quality',\n",
    "    'Colorectal cancer screening among adults aged 45–75 years' : 'Healthcare Access and Quality',\n",
    "    'Visited dentist or dental clinic in the past year among adults' : 'Healthcare Access and Quality',\n",
    "    'Cholesterol screening among adults' : 'Healthcare Access and Quality',\n",
    "    'Taking medicine to control high blood pressure among adults with high blood pressure' : 'Healthcare Access and Quality',\n",
    "    'Received food stamps in the past 12 months among adults' : 'Food Quality',\n",
    "    'Food insecurity in the past 12 months among adults' : 'Food Quality',\n",
    "    # 'Housing insecurity in the past 12 months among adults' : 'Economic Stability',\n",
    "    # 'Utility services shut-off threat in the past 12 months among adults' : 'Economic Stability',\n",
    "    'Lack of reliable transportation in the past 12 months among adults' : 'Transportation',\n",
    "    'Feeling socially isolated among adults' : 'socioeconomic',\n",
    "    'Lack of social and emotional support among adults' : 'socioeconomic',\n",
    "    'Fair or poor self-rated health status among adults' : 'Education Access and Health Literacy',\n",
    "    'Frequent mental distress among adults' : 'Education Access and Health Literacy',\n",
    "    'Cognitive disability among adults' : 'Education Access and Health Literacy',\n",
    "    'Depression among adults' : 'Education Access and Health Literacy'\n",
    "    # 'Current cigarette smoking among adults' : 'Neighborhood and Built Environment / Health Behaviors',\n",
    "    # 'Binge drinking among adults' : 'Neighborhood and Built Environment / Health Behaviors',\n",
    "    # 'No leisure-time physical activity among adults' : 'Neighborhood and Built Environment / Health Behaviors',\n",
    "    # 'Obesity among adults' : 'Neighborhood and Built Environment / Health Behaviors',\n",
    "    # 'Short sleep duration among adults' : 'Neighborhood and Built Environment / Health Behaviors'\n",
    "}"
   ]
  },
  {
   "cell_type": "code",
   "execution_count": 4,
   "id": "110e3dc2-0afc-4c55-93f4-565ccb7b8302",
   "metadata": {},
   "outputs": [],
   "source": [
    "center_tract_data = center_tract_data[center_tract_data['Measure'].isin(measure_category.keys())]\n",
    "center_tract_data['Category'] = center_tract_data['Measure'].map(measure_category)"
   ]
  },
  {
   "cell_type": "code",
   "execution_count": 5,
   "id": "a0240807-39bb-4524-bf23-13889771776a",
   "metadata": {},
   "outputs": [],
   "source": [
    "df = center_tract_data.pivot_table(\n",
    "    index = 'LocationID',\n",
    "    columns = 'Measure',\n",
    "    values = 'Data_Value',\n",
    "    aggfunc = 'mean'\n",
    ").reset_index()\n",
    "\n",
    "from collections import defaultdict\n",
    "cat_measures = defaultdict(list)\n",
    "for measure, cat in measure_category.items():\n",
    "    cat_measures[cat].append(measure)\n",
    "\n",
    "for cat,measures in cat_measures.items():\n",
    "    df[cat] = df[measures].mean(axis=1)"
   ]
  },
  {
   "cell_type": "code",
   "execution_count": 6,
   "id": "95ced6eb-ee97-461e-83d9-c3818b4e5a3c",
   "metadata": {},
   "outputs": [],
   "source": [
    "file2_deduplicated = zip_tract_crosswalk.drop_duplicates(subset='TRACT')\n",
    "# Merge both files on 'location_id'\n",
    "merged_df = pd.merge(df, file2_deduplicated,left_on='LocationID', right_on='TRACT', how='left')"
   ]
  },
  {
   "cell_type": "code",
   "execution_count": 7,
   "id": "cbbd3e2a-a25d-4bc1-9452-e9980ca8cca5",
   "metadata": {},
   "outputs": [
    {
     "data": {
      "text/plain": [
       "Index(['LocationID', 'Cholesterol screening among adults',\n",
       "       'Cognitive disability among adults',\n",
       "       'Colorectal cancer screening among adults aged 45–75 years',\n",
       "       'Current lack of health insurance among adults aged 18-64 years',\n",
       "       'Depression among adults',\n",
       "       'Fair or poor self-rated health status among adults',\n",
       "       'Feeling socially isolated among adults',\n",
       "       'Food insecurity in the past 12 months among adults',\n",
       "       'Frequent mental distress among adults',\n",
       "       'Lack of reliable transportation in the past 12 months among adults',\n",
       "       'Lack of social and emotional support among adults',\n",
       "       'Mammography use among women aged 50-74 years',\n",
       "       'Received food stamps in the past 12 months among adults',\n",
       "       'Taking medicine to control high blood pressure among adults with high blood pressure',\n",
       "       'Visited dentist or dental clinic in the past year among adults',\n",
       "       'Visits to doctor for routine checkup within the past year among adults',\n",
       "       'Healthcare Access and Quality', 'Food Quality', 'Transportation',\n",
       "       'socioeconomic', 'Education Access and Health Literacy', 'ZIP', 'TRACT',\n",
       "       'USPS_ZIP_PREF_CITY', 'USPS_ZIP_PREF_STATE', 'RES_RATIO', 'BUS_RATIO',\n",
       "       'OTH_RATIO', 'TOT_RATIO'],\n",
       "      dtype='object')"
      ]
     },
     "execution_count": 7,
     "metadata": {},
     "output_type": "execute_result"
    }
   ],
   "source": [
    "merged_df.columns"
   ]
  },
  {
   "cell_type": "code",
   "execution_count": 9,
   "id": "2da63937-2eeb-4534-a865-a67a83354a54",
   "metadata": {},
   "outputs": [],
   "source": [
    "columns_1 = [ 'Cholesterol screening among adults',\n",
    "       'Cognitive disability among adults',\n",
    "       'Colorectal cancer screening among adults aged 45–75 years',\n",
    "       'Current lack of health insurance among adults aged 18-64 years',\n",
    "       'Depression among adults',\n",
    "       'Fair or poor self-rated health status among adults',\n",
    "       'Feeling socially isolated among adults',\n",
    "       'Food insecurity in the past 12 months among adults',\n",
    "       'Frequent mental distress among adults',\n",
    "       'Lack of reliable transportation in the past 12 months among adults',\n",
    "       'Lack of social and emotional support among adults',\n",
    "       'Mammography use among women aged 50-74 years',\n",
    "       'Received food stamps in the past 12 months among adults',\n",
    "       'Taking medicine to control high blood pressure among adults with high blood pressure',\n",
    "       'Visited dentist or dental clinic in the past year among adults',\n",
    "       'Visits to doctor for routine checkup within the past year among adults','ZIP', 'TRACT',\n",
    "       'USPS_ZIP_PREF_CITY', 'USPS_ZIP_PREF_STATE', 'RES_RATIO', 'BUS_RATIO',\n",
    "       'OTH_RATIO', 'TOT_RATIO']\n",
    "\n",
    "DF = merged_df.copy()\n",
    "DF = DF.drop(columns = columns_1,axis=1)"
   ]
  },
  {
   "cell_type": "code",
   "execution_count": 10,
   "id": "15f34347-93ea-4d70-8b22-bfa64999f9dc",
   "metadata": {},
   "outputs": [],
   "source": [
    "from sklearn.preprocessing import MinMaxScaler\n",
    "\n",
    "scaler = MinMaxScaler()\n",
    "scorecard_scaled = DF.copy()\n",
    "scorecard_scaled[['Healthcare Access and Quality', 'Food Quality','Transportation', 'socioeconomic','Education Access and Health Literacy']] = scaler.fit_transform(\n",
    "    DF[['Healthcare Access and Quality', 'Food Quality','Transportation', 'socioeconomic','Education Access and Health Literacy']]\n",
    ")\n",
    "X = scorecard_scaled.drop(columns=['LocationID'])"
   ]
  },
  {
   "cell_type": "code",
   "execution_count": 13,
   "id": "3f261ff5-7412-4221-9f6c-e73851c0cc89",
   "metadata": {},
   "outputs": [
    {
     "data": {
      "text/plain": [
       "Healthcare Access and Quality           0\n",
       "Food Quality                            0\n",
       "Transportation                          0\n",
       "socioeconomic                           0\n",
       "Education Access and Health Literacy    0\n",
       "dtype: int64"
      ]
     },
     "execution_count": 13,
     "metadata": {},
     "output_type": "execute_result"
    }
   ],
   "source": [
    "X.isnull().sum()"
   ]
  },
  {
   "cell_type": "code",
   "execution_count": 12,
   "id": "007e1c40-98a7-4b4e-a592-ba4083de2039",
   "metadata": {},
   "outputs": [],
   "source": [
    "X = X.fillna(X.median())"
   ]
  },
  {
   "cell_type": "code",
   "execution_count": 14,
   "id": "954c1870-6ebb-467d-80df-93b404737b27",
   "metadata": {},
   "outputs": [],
   "source": [
    "thresholds = X.quantile(0.66)\n",
    "\n",
    "def flag_issues(row):\n",
    "    flags = {}\n",
    "    for col in X.columns:\n",
    "        flags[col] = '⚠️' if row[col] < thresholds[col] else '✅'\n",
    "    return pd.Series(flags)\n",
    "\n",
    "scorecard_scaled[[\n",
    "    'Healthcare_Flag',\n",
    "    'Food_Flag',\n",
    "    'Transportaion_Flag',\n",
    "    'Socioeconomic_Flag',\n",
    "    'Education_Flag'\n",
    "]] = X.apply(flag_issues, axis=1)"
   ]
  },
  {
   "cell_type": "code",
   "execution_count": 15,
   "id": "fe59fd07-a4c3-44b2-b9f3-e1d1ae0ae4f2",
   "metadata": {},
   "outputs": [],
   "source": [
    "df_2 = scorecard_scaled.drop(columns = ['Healthcare Access and Quality','Food Quality','Transportation','socioeconomic','Education Access and Health Literacy'],axis=1)\n",
    "merged_scorecard = pd.merge(df_2, file2_deduplicated,left_on='LocationID', right_on='TRACT', how='left')\n",
    "merged_scorecard = merged_scorecard.drop(columns = ['TRACT','USPS_ZIP_PREF_CITY','USPS_ZIP_PREF_STATE'],axis=1)"
   ]
  },
  {
   "cell_type": "code",
   "execution_count": 16,
   "id": "a582d900-fe37-4928-ac76-a7ddd4fcd04b",
   "metadata": {},
   "outputs": [],
   "source": [
    "flag_map = {'⚠️': 1, '✅': 0}\n",
    "\n",
    "sdh_flags = [\n",
    "    'Healthcare_Flag',\n",
    "    'Food_Flag',\n",
    "    'Transportaion_Flag',\n",
    "    'Socioeconomic_Flag',\n",
    "    'Education_Flag'\n",
    "]\n",
    "\n",
    "for col in sdh_flags:\n",
    "    merged_scorecard[col] = merged_scorecard[col].map(flag_map)"
   ]
  },
  {
   "cell_type": "code",
   "execution_count": 17,
   "id": "73a891c5-eaad-4f51-8cd6-ae4d43e2428a",
   "metadata": {},
   "outputs": [],
   "source": [
    "from sklearn.ensemble import RandomForestClassifier\n",
    "from sklearn.multioutput import MultiOutputClassifier\n",
    "\n",
    "features = ['RES_RATIO', 'BUS_RATIO', 'OTH_RATIO', 'TOT_RATIO','ZIP']  # ZIP-level input columns\n",
    "X = merged_scorecard[features]\n",
    "y = merged_scorecard[sdh_flags]"
   ]
  },
  {
   "cell_type": "code",
   "execution_count": 18,
   "id": "27260c63-dd89-42e9-8970-2696e7b41d2d",
   "metadata": {},
   "outputs": [],
   "source": [
    "from sklearn.ensemble import RandomForestClassifier\n",
    "\n",
    "models = {}\n",
    "\n",
    "for col in sdh_flags:\n",
    "    target_flag = f'{col}'\n",
    "    model = RandomForestClassifier(random_state=42)\n",
    "    model.fit(merged_scorecard[features], merged_scorecard[target_flag])\n",
    "    models[target_flag] = model"
   ]
  },
  {
   "cell_type": "code",
   "execution_count": 19,
   "id": "6bf8895d-9e8e-4600-8496-30fad0e4ddfc",
   "metadata": {},
   "outputs": [],
   "source": [
    "def predict_all_flags(zip_input_dict):\n",
    "    import numpy as np\n",
    "    X_input = np.array([zip_input_dict[feat] for feat in features]).reshape(1, -1)\n",
    "    \n",
    "    predictions = {}\n",
    "    for flag, model in models.items():\n",
    "        predictions[flag] = model.predict(X_input)[0]\n",
    "    \n",
    "    return predictions"
   ]
  },
  {
   "cell_type": "code",
   "execution_count": 20,
   "id": "e2fb385b-86f2-4d77-a15c-5d0673719cdb",
   "metadata": {},
   "outputs": [
    {
     "name": "stdout",
     "output_type": "stream",
     "text": [
      "Healthcare_Flag Accuracy: 0.777\n",
      "Food_Flag Accuracy: 0.802\n",
      "Transportaion_Flag Accuracy: 0.802\n",
      "Socioeconomic_Flag Accuracy: 0.827\n",
      "Education_Flag Accuracy: 0.771\n"
     ]
    }
   ],
   "source": [
    "from sklearn.metrics import accuracy_score\n",
    "\n",
    "for flag in sdh_flags:\n",
    "    y_true = merged_scorecard[flag]\n",
    "    y_pred = models[flag].predict(merged_scorecard[features])\n",
    "    acc = accuracy_score(y_true, y_pred)\n",
    "    print(f\"{flag} Accuracy: {acc:.3f}\")"
   ]
  },
  {
   "cell_type": "code",
   "execution_count": 21,
   "id": "793ce980-474c-4af1-a39f-2638b477200f",
   "metadata": {},
   "outputs": [],
   "source": [
    "DF_22 = merged_df.copy()\n",
    "DF_22 = DF_22.drop(columns=['Healthcare Access and Quality', 'Food Quality','Transportation', 'socioeconomic','Education Access and Health Literacy','ZIP', 'TRACT',\n",
    "       'USPS_ZIP_PREF_CITY', 'USPS_ZIP_PREF_STATE', 'RES_RATIO', 'BUS_RATIO',\n",
    "       'OTH_RATIO', 'TOT_RATIO'],axis=1)\n",
    "# Drop the location column to compute thresholds only on data columns\n",
    "data_cols = DF_22.columns.drop('LocationID')\n",
    "thresholds = DF_22[data_cols].quantile(0.66)\n",
    "\n",
    "# Apply flags: 1 if value < threshold else 0\n",
    "for col in data_cols:\n",
    "    DF_22[col + '_Flag'] = (DF_22[col] < thresholds[col]).astype(int)\n"
   ]
  },
  {
   "cell_type": "code",
   "execution_count": 22,
   "id": "ca09e80f-acce-4304-bbf8-904ca2727056",
   "metadata": {},
   "outputs": [],
   "source": [
    "columns_22 = ['Cholesterol screening among adults',\n",
    "       'Cognitive disability among adults',\n",
    "       'Colorectal cancer screening among adults aged 45–75 years',\n",
    "       'Current lack of health insurance among adults aged 18-64 years',\n",
    "       'Depression among adults',\n",
    "       'Fair or poor self-rated health status among adults',\n",
    "       'Feeling socially isolated among adults',\n",
    "       'Food insecurity in the past 12 months among adults',\n",
    "       'Frequent mental distress among adults',\n",
    "       'Lack of reliable transportation in the past 12 months among adults',\n",
    "       'Lack of social and emotional support among adults',\n",
    "       'Mammography use among women aged 50-74 years',\n",
    "       'Received food stamps in the past 12 months among adults',\n",
    "       'Taking medicine to control high blood pressure among adults with high blood pressure',\n",
    "       'Visited dentist or dental clinic in the past year among adults',\n",
    "       'Visits to doctor for routine checkup within the past year among adults'] \n",
    "DF_22 = DF_22.drop(columns = columns_22,axis=1)"
   ]
  },
  {
   "cell_type": "code",
   "execution_count": 24,
   "id": "0f8bd894-67cf-4d99-bb66-753f91e62a36",
   "metadata": {},
   "outputs": [],
   "source": [
    "# Map model-flag names to the human-readable category names used in measure_category\n",
    "flag_to_category = {\n",
    "    'Healthcare_Flag'   : 'Healthcare Access and Quality',\n",
    "    'Food_Flag'     : 'Food Quality',\n",
    "    'Transportaion_Flag' : 'Transportation',\n",
    "    'Socioeconomic_Flag': 'socioeconomic',\n",
    "    'Education_Flag'    : 'Education Access and Health Literacy'\n",
    "}\n",
    "\n",
    "def generate_scorecard(location_id: int, input_features: dict):\n",
    "    \"\"\"\n",
    "    1. Predict the 5 main category flags for the new data point.\n",
    "    2. Pull that location’s row from DF_22.\n",
    "    3. For every main category predicted = 1, return the individual measure flags.\n",
    "    \"\"\"\n",
    "    # 1. predict 1/0 for the 5 main categories\n",
    "    main_preds = predict_all_flags(input_features)          # {'Healthcare_Flag': 1, ...}\n",
    "\n",
    "    # 2. row for this location (assumes DF_22 already loaded)\n",
    "    row = DF_22.loc[DF_22['LocationID'] == location_id].iloc[0]\n",
    "\n",
    "    # 3. build detailed scorecard\n",
    "    scorecard = {}\n",
    "    for flag, pred in main_preds.items():\n",
    "        if pred == 1:                                       # only if category is flagged\n",
    "            category = flag_to_category[flag]\n",
    "            scorecard[category] = {\n",
    "                measure: int(row[measure + '_Flag'])                  # 1/0 from DF_22\n",
    "                for measure, cat_name in measure_category.items()\n",
    "                if cat_name == category\n",
    "            }\n",
    "    return scorecard\n",
    "\n"
   ]
  },
  {
   "cell_type": "code",
   "execution_count": 25,
   "id": "b0394438-ef0f-41f4-af8d-b005f06aa40b",
   "metadata": {},
   "outputs": [
    {
     "name": "stdout",
     "output_type": "stream",
     "text": [
      "{'Healthcare Access and Quality': {'Current lack of health insurance among adults aged 18-64 years': 1, 'Visits to doctor for routine checkup within the past year among adults': 1, 'Mammography use among women aged 50-74 years': 0, 'Colorectal cancer screening among adults aged 45–75 years': 1, 'Visited dentist or dental clinic in the past year among adults': 1, 'Cholesterol screening among adults': 1, 'Taking medicine to control high blood pressure among adults with high blood pressure': 0}, 'Food Quality': {'Received food stamps in the past 12 months among adults': 1, 'Food insecurity in the past 12 months among adults': 1}, 'Transportation': {'Lack of reliable transportation in the past 12 months among adults': 1}, 'socioeconomic': {'Feeling socially isolated among adults': 0, 'Lack of social and emotional support among adults': 1}}\n"
     ]
    },
    {
     "name": "stderr",
     "output_type": "stream",
     "text": [
      "C:\\Users\\DELL\\AppData\\Local\\Programs\\Python\\Python312\\Lib\\site-packages\\sklearn\\base.py:493: UserWarning: X does not have valid feature names, but RandomForestClassifier was fitted with feature names\n",
      "  warnings.warn(\n",
      "C:\\Users\\DELL\\AppData\\Local\\Programs\\Python\\Python312\\Lib\\site-packages\\sklearn\\base.py:493: UserWarning: X does not have valid feature names, but RandomForestClassifier was fitted with feature names\n",
      "  warnings.warn(\n",
      "C:\\Users\\DELL\\AppData\\Local\\Programs\\Python\\Python312\\Lib\\site-packages\\sklearn\\base.py:493: UserWarning: X does not have valid feature names, but RandomForestClassifier was fitted with feature names\n",
      "  warnings.warn(\n",
      "C:\\Users\\DELL\\AppData\\Local\\Programs\\Python\\Python312\\Lib\\site-packages\\sklearn\\base.py:493: UserWarning: X does not have valid feature names, but RandomForestClassifier was fitted with feature names\n",
      "  warnings.warn(\n",
      "C:\\Users\\DELL\\AppData\\Local\\Programs\\Python\\Python312\\Lib\\site-packages\\sklearn\\base.py:493: UserWarning: X does not have valid feature names, but RandomForestClassifier was fitted with feature names\n",
      "  warnings.warn(\n"
     ]
    }
   ],
   "source": [
    "# -------- Example ----------\n",
    "# location_id you want to review\n",
    "loc_id = 1001020100  \n",
    "\n",
    "# dict with values for every feature in your `features` list\n",
    "input_dict = {\n",
    "    'RES_RATIO': 0.3,\n",
    "    'BUS_RATIO': 0.1,\n",
    "    'OTH_RATIO': 0.1,\n",
    "    'TOT_RATIO': 0.27,\n",
    "    'ZIP': 36067\n",
    "}\n",
    "\n",
    "scorecard = generate_scorecard(loc_id, input_dict)\n",
    "print(scorecard)\n"
   ]
  },
  {
   "cell_type": "code",
   "execution_count": 26,
   "id": "81558f91-afae-469e-b28c-5528a312490f",
   "metadata": {},
   "outputs": [],
   "source": [
    "import pandas as pd\n",
    "from IPython.display import display, HTML\n",
    "\n",
    "def generate_summary_table(scorecard):\n",
    "    rows = []\n",
    "\n",
    "    for category, indicators in scorecard.items():\n",
    "        triggered_indicators = [\n",
    "            indicator for indicator, flag in indicators.items() if flag == 1\n",
    "        ]\n",
    "        if triggered_indicators:\n",
    "            rows.append({\n",
    "                'Determinants': category,\n",
    "                'Example Indicators': \"<ul>\" + \"\".join(f\"<li>{i}</li>\" for i in triggered_indicators) + \"</ul>\"\n",
    "            })\n",
    "\n",
    "    df_summary = pd.DataFrame(rows)\n",
    "    return df_summary\n",
    "\n",
    "def display_summary_html(df_summary):\n",
    "    styled_html = df_summary.to_html(escape=False, index=False)\n",
    "    display(HTML(styled_html))\n"
   ]
  },
  {
   "cell_type": "code",
   "execution_count": 27,
   "id": "763ac79d-0ef7-4fac-acd2-a526c37ed6b8",
   "metadata": {},
   "outputs": [
    {
     "data": {
      "text/html": [
       "<table border=\"1\" class=\"dataframe\">\n",
       "  <thead>\n",
       "    <tr style=\"text-align: right;\">\n",
       "      <th>Determinants</th>\n",
       "      <th>Example Indicators</th>\n",
       "    </tr>\n",
       "  </thead>\n",
       "  <tbody>\n",
       "    <tr>\n",
       "      <td>Healthcare Access and Quality</td>\n",
       "      <td><ul><li>Current lack of health insurance among adults aged 18-64 years</li><li>Visits to doctor for routine checkup within the past year among adults</li><li>Colorectal cancer screening among adults aged 45–75 years</li><li>Visited dentist or dental clinic in the past year among adults</li><li>Cholesterol screening among adults</li></ul></td>\n",
       "    </tr>\n",
       "    <tr>\n",
       "      <td>Food Quality</td>\n",
       "      <td><ul><li>Received food stamps in the past 12 months among adults</li><li>Food insecurity in the past 12 months among adults</li></ul></td>\n",
       "    </tr>\n",
       "    <tr>\n",
       "      <td>Transportation</td>\n",
       "      <td><ul><li>Lack of reliable transportation in the past 12 months among adults</li></ul></td>\n",
       "    </tr>\n",
       "    <tr>\n",
       "      <td>socioeconomic</td>\n",
       "      <td><ul><li>Lack of social and emotional support among adults</li></ul></td>\n",
       "    </tr>\n",
       "  </tbody>\n",
       "</table>"
      ],
      "text/plain": [
       "<IPython.core.display.HTML object>"
      ]
     },
     "metadata": {},
     "output_type": "display_data"
    }
   ],
   "source": [
    "summary_df = generate_summary_table(scorecard)\n",
    "display_summary_html(summary_df)"
   ]
  },
  {
   "cell_type": "markdown",
   "id": "09950e0b-4ebc-42ea-b339-7ca22c7a168e",
   "metadata": {},
   "source": [
    "## solution"
   ]
  },
  {
   "cell_type": "code",
   "execution_count": 28,
   "id": "c57cb222-6d27-4737-adc9-aa3398a9fa7e",
   "metadata": {},
   "outputs": [],
   "source": [
    "hospital_df = pd.read_excel('Copy of Hospital_General_Information.xlsx')\n",
    "homehealth_df = pd.read_excel('Copy of HH_Provider_Jan2024.xlsx')\n",
    "supplier_df = pd.read_excel('Copy of Medical-Equipment-Suppliers.xlsx')"
   ]
  },
  {
   "cell_type": "code",
   "execution_count": 29,
   "id": "255dec74-30bd-49cc-bbb6-637d449cdc6d",
   "metadata": {},
   "outputs": [],
   "source": [
    "def get_healthcare_solution(zipcode: int) -> str:\n",
    "    \"\"\"\n",
    "    Returns the hospital or home health provider name and phone based on ZIP code.\n",
    "    Priority: Hospital → Home Health. Returns fallback message if not found.\n",
    "    \"\"\"\n",
    "    # Search in hospital dataset\n",
    "    match = hospital_df[hospital_df['ZIP Code'] == zipcode]\n",
    "    if not match.empty:\n",
    "        name  = match.iloc[0]['Facility Name']\n",
    "        phone = match.iloc[0]['Telephone Number']\n",
    "        return f\"{name} – {phone}\"\n",
    "\n",
    "    # If not found, search in home health dataset\n",
    "    match = homehealth_df[homehealth_df['zipcode'] == zipcode]\n",
    "    if not match.empty:\n",
    "        name  = match.iloc[0]['Provider Name']\n",
    "        phone = match.iloc[0]['Telephone Number']\n",
    "        return f\"{name} – {phone}\"\n",
    "\n",
    "    # If neither found\n",
    "    return \"No provider found\"\n"
   ]
  },
  {
   "cell_type": "code",
   "execution_count": 30,
   "id": "bf6433c9-7459-4e05-a003-f814823bef71",
   "metadata": {},
   "outputs": [
    {
     "name": "stdout",
     "output_type": "stream",
     "text": [
      "PRATTVILLE BAPTIST HOSPITAL – (334) 361-4267\n"
     ]
    }
   ],
   "source": [
    "zip_input = 36067\n",
    "solution = get_healthcare_solution(zip_input)\n",
    "print(solution)"
   ]
  },
  {
   "cell_type": "code",
   "execution_count": 31,
   "id": "deb15d5a-c055-4de0-86b0-436a19417863",
   "metadata": {},
   "outputs": [],
   "source": [
    "merged_zip_place_df = pd.merge(center_tract_data, file2_deduplicated,left_on='LocationID', right_on='TRACT', how='left')\n",
    "import numpy as np\n",
    "import math\n",
    "\n",
    "def _haversine(lon1, lat1, lon2, lat2):\n",
    "    \"\"\"Great-circle distance in kilometers.\"\"\"\n",
    "    R = 6371.0  # Earth radius (km)\n",
    "    lon1, lat1, lon2, lat2 = map(np.radians, [lon1, lat1, lon2, lat2])\n",
    "    dlon  = lon2 - lon1\n",
    "    dlat  = lat2 - lat1\n",
    "    a = np.sin(dlat/2)**2 + np.cos(lat1)*np.cos(lat2)*np.sin(dlon/2)**2\n",
    "    return 2 * R * np.arcsin(np.sqrt(a))\n",
    "\n",
    "def get_nearest_supplier(zipcode: int):\n",
    "    row = merged_zip_place_df .loc[merged_zip_place_df ['ZIP'] == zipcode]\n",
    "    if row.empty:\n",
    "        return None  # zip not in table\n",
    "    point_str = row.iloc[0]['Geolocation']           # \"POINT (-80.25 25.96)\"\n",
    "    lon0, lat0 = map(float, point_str.strip('POINT ()').split())\n",
    "    \n",
    "    # ---- 2. distances to suppliers\n",
    "    lons = supplier_df['longitude'].to_numpy(dtype=float)\n",
    "    lats = supplier_df['latitude' ].to_numpy(dtype=float)\n",
    "    dists = _haversine(lon0, lat0, lons, lats)\n",
    "    \n",
    "    if len(dists) == 0:\n",
    "        return None  # no suppliers data\n",
    "    idx = int(np.argmin(dists))\n",
    "    \n",
    "    # ---- 3. build answer\n",
    "    best = supplier_df.iloc[idx]\n",
    "    return {\n",
    "        'supplier_name' : best['practicename'],\n",
    "        'Address'      : str(best['practiceaddress1']),\n",
    "        'City'     : (best['practicecity']),\n",
    "        'distance_km'   : float(dists[idx])\n",
    "    }\n"
   ]
  },
  {
   "cell_type": "code",
   "execution_count": 32,
   "id": "dd2cea57-fc25-4bf2-8ac1-a12c8c7600e2",
   "metadata": {},
   "outputs": [
    {
     "name": "stdout",
     "output_type": "stream",
     "text": [
      "{'supplier_name': 'PRICE CHOPPER PHARMACY #240', 'Address': '2 WORCESTER ROAD', 'City': 'WORCESTER', 'distance_km': nan}\n"
     ]
    }
   ],
   "source": [
    "result_3332 = get_nearest_supplier(33030)\n",
    "print(result_3332)"
   ]
  },
  {
   "cell_type": "code",
   "execution_count": 34,
   "id": "1d171482-8eb3-4161-a735-8d6140773fdd",
   "metadata": {},
   "outputs": [],
   "source": [
    "supplier_df[['latitude', 'longitude']].isna().sum()\n",
    "supplier_df = supplier_df.dropna(subset=['latitude', 'longitude'])"
   ]
  },
  {
   "cell_type": "markdown",
   "id": "66b57212-4012-425e-bf3e-aaf06688a90b",
   "metadata": {},
   "source": [
    "Now webscrapping is done and csv files are made with facility name, address and number"
   ]
  },
  {
   "cell_type": "code",
   "execution_count": 48,
   "id": "5ebcc986-bc94-4e02-b6eb-acfe11ccaab2",
   "metadata": {},
   "outputs": [],
   "source": [
    "def get_trans(zipcode):\n",
    "    testttt_1 = pd.read_csv(\"transportation_services_2.csv\")\n",
    "    match = testttt_1[testttt_1['search_zip'] == zipcode]\n",
    "    if not match.empty:\n",
    "        row = match.iloc[0]\n",
    "        return f'name = \"{row[\"name\"]}\"\\naddress = \"{row[\"address\"]}\"\\nnumber = \"{row[\"phone\"]}\"'\n",
    "\n",
    "\n",
    "def get_socio(zipcode):\n",
    "    testttt_2 = pd.read_csv(\"socioeconomic_2.csv\")\n",
    "    match = testttt_2[testttt_2['search_zip'] == zipcode]\n",
    "    if not match.empty:\n",
    "        row = match.iloc[0]\n",
    "        return f'name = \"{row[\"name\"]}\"\\naddress = \"{row[\"address\"]}\"\\nnumber = \"{row[\"phone\"]}\"'\n",
    "\n",
    "\n",
    "def get_edu(zipcode):\n",
    "    testttt_3 = pd.read_csv(\"Education.csv\")\n",
    "    match = testttt_3[testttt_3['search_zip'] == zipcode]\n",
    "    if not match.empty:\n",
    "        row = match.iloc[0]\n",
    "        return f'name = \"{row[\"name\"]}\"\\naddress = \"{row[\"address\"]}\"\\nnumber = \"{row[\"phone\"]}\"'\n",
    "\n",
    "\n",
    "def get_food(zipcode):\n",
    "    testttt_4 = pd.read_csv(\"food_centers_output.csv\")\n",
    "    match = testttt_4[testttt_4['zipcode'] == zipcode]\n",
    "    if not match.empty:\n",
    "        row = match.iloc[0]\n",
    "        return f'name = \"{row[\"name\"]}\"\\naddress = \"{row[\"address\"]}\"\\nnumber = \"{row[\"phone\"]}\"'"
   ]
  },
  {
   "cell_type": "code",
   "execution_count": 68,
   "id": "5c4464ee-cfea-4624-8003-eb1310147290",
   "metadata": {},
   "outputs": [],
   "source": [
    "# dif_2 = pd.read_csv('socioeconomic_2.csv')\n",
    "# print(dif_2.head(12))"
   ]
  },
  {
   "cell_type": "code",
   "execution_count": 69,
   "id": "a4629708-d4e2-4f5f-99c4-30893325e4d4",
   "metadata": {},
   "outputs": [],
   "source": [
    "# zipcode_input = 36067\n",
    "# print(get_socio(zipcode_input))"
   ]
  },
  {
   "cell_type": "code",
   "execution_count": 76,
   "id": "68b4e207-8689-4ab7-9c12-13f42841bf45",
   "metadata": {},
   "outputs": [],
   "source": [
    "import pandas as pd\n",
    "from IPython.display import HTML, display\n",
    "import inspect  # ✅ required for safe_call()\n",
    "\n",
    "\n",
    "# ── 1.  MAP EACH DETERMINANT TO ITS SOLUTION FUNCTION ──────────────────────────\n",
    "#    Replace A-E with your real functions.\n",
    "solution_funcs = {\n",
    "   \"healthcare access and quality\": [get_healthcare_solution, get_nearest_supplier],\n",
    "    \"food quality\": [get_food],\n",
    "    \"transportation\": [get_trans],\n",
    "    \"socioeconomic\": [get_socio],\n",
    "    \"education access and health literacy\": [get_edu],\n",
    "}\n"
   ]
  },
  {
   "cell_type": "code",
   "execution_count": 77,
   "id": "f7106744-2aa6-4d4e-b594-b8685f4c89a3",
   "metadata": {},
   "outputs": [],
   "source": [
    "def safe_call(func, triggered, zipcode):\n",
    "    if len(inspect.signature(func).parameters) == 2:\n",
    "        return func(triggered, zipcode)\n",
    "    else:\n",
    "        return func(zipcode)\n",
    "\n",
    "\n",
    "# Updated generate_summary_table\n",
    "def generate_summary_table(scorecard, zipcode, func_map=solution_funcs):\n",
    "    rows = []\n",
    "\n",
    "    for category, indicators in scorecard.items():\n",
    "        triggered = [ind for ind, flag in indicators.items() if flag == 1]\n",
    "        if not triggered:\n",
    "            continue\n",
    "\n",
    "        category_lower = category.lower()\n",
    "        solutions = []\n",
    "        for fn in func_map.get(category_lower, []):\n",
    "            try:\n",
    "                solutions.append(safe_call(fn, triggered, zipcode))\n",
    "            except Exception as e:\n",
    "                solutions.append(f\"Error: {e}\")\n",
    "\n",
    "        rows.append({\n",
    "            \"Determinants\": category,\n",
    "            \"Example Indicators\": \"<ul>\" + \"\".join(f\"<li>{i}</li>\" for i in triggered) + \"</ul>\",\n",
    "            \"Solution\": \"<ul>\" + \"\".join(f\"<li>{s}</li>\" for s in solutions) + \"</ul>\"\n",
    "        })\n",
    "\n",
    "    return pd.DataFrame(rows)"
   ]
  },
  {
   "cell_type": "code",
   "execution_count": 80,
   "id": "bd5d2f3a-a8d2-45a1-b81d-438faa95b4e0",
   "metadata": {},
   "outputs": [
    {
     "name": "stderr",
     "output_type": "stream",
     "text": [
      "C:\\Users\\DELL\\AppData\\Local\\Programs\\Python\\Python312\\Lib\\site-packages\\sklearn\\base.py:493: UserWarning: X does not have valid feature names, but RandomForestClassifier was fitted with feature names\n",
      "  warnings.warn(\n",
      "C:\\Users\\DELL\\AppData\\Local\\Programs\\Python\\Python312\\Lib\\site-packages\\sklearn\\base.py:493: UserWarning: X does not have valid feature names, but RandomForestClassifier was fitted with feature names\n",
      "  warnings.warn(\n",
      "C:\\Users\\DELL\\AppData\\Local\\Programs\\Python\\Python312\\Lib\\site-packages\\sklearn\\base.py:493: UserWarning: X does not have valid feature names, but RandomForestClassifier was fitted with feature names\n",
      "  warnings.warn(\n",
      "C:\\Users\\DELL\\AppData\\Local\\Programs\\Python\\Python312\\Lib\\site-packages\\sklearn\\base.py:493: UserWarning: X does not have valid feature names, but RandomForestClassifier was fitted with feature names\n",
      "  warnings.warn(\n",
      "C:\\Users\\DELL\\AppData\\Local\\Programs\\Python\\Python312\\Lib\\site-packages\\sklearn\\base.py:493: UserWarning: X does not have valid feature names, but RandomForestClassifier was fitted with feature names\n",
      "  warnings.warn(\n"
     ]
    }
   ],
   "source": [
    "# Display HTML\n",
    "def display_summary_html(df_summary):\n",
    "    display(HTML(df_summary.to_html(escape=False, index=False)))\n",
    "# ✅ Usage\n",
    "# python\n",
    "# Copy\n",
    "# Edit\n",
    "input_dict = {\n",
    "    'RES_RATIO': 0.3,\n",
    "    'BUS_RATIO': 0.1,\n",
    "    'OTH_RATIO': 0.1,\n",
    "    'TOT_RATIO': 0.27,\n",
    "    'ZIP': 36067\n",
    "}\n",
    "\n",
    "scorecard = generate_scorecard(loc_id, input_dict)"
   ]
  },
  {
   "cell_type": "code",
   "execution_count": 81,
   "id": "9871a0e5-3fd5-4d86-9d1d-3085a0bdcf7b",
   "metadata": {},
   "outputs": [
    {
     "data": {
      "text/html": [
       "<table border=\"1\" class=\"dataframe\">\n",
       "  <thead>\n",
       "    <tr style=\"text-align: right;\">\n",
       "      <th>Determinants</th>\n",
       "      <th>Example Indicators</th>\n",
       "      <th>Solution</th>\n",
       "    </tr>\n",
       "  </thead>\n",
       "  <tbody>\n",
       "    <tr>\n",
       "      <td>Healthcare Access and Quality</td>\n",
       "      <td><ul><li>Current lack of health insurance among adults aged 18-64 years</li><li>Visits to doctor for routine checkup within the past year among adults</li><li>Colorectal cancer screening among adults aged 45–75 years</li><li>Visited dentist or dental clinic in the past year among adults</li><li>Cholesterol screening among adults</li></ul></td>\n",
       "      <td><ul><li>PRATTVILLE BAPTIST HOSPITAL – (334) 361-4267</li><li>{'supplier_name': 'PROHEALTH MEDICAL', 'Address': '213 S COURT ST', 'City': 'PRATTVILLE', 'distance_km': 1.635247218222527}</li></ul></td>\n",
       "    </tr>\n",
       "    <tr>\n",
       "      <td>Food Quality</td>\n",
       "      <td><ul><li>Received food stamps in the past 12 months among adults</li><li>Food insecurity in the past 12 months among adults</li></ul></td>\n",
       "      <td><ul><li>name = \"Montomery Area Council On Aging\"\\naddress = \"115 E Jefferson St, Montgomery, AL 36104-3616\"\\nnumber = \"(334)263-0532\"</li></ul></td>\n",
       "    </tr>\n",
       "    <tr>\n",
       "      <td>Transportation</td>\n",
       "      <td><ul><li>Lack of reliable transportation in the past 12 months among adults</li></ul></td>\n",
       "      <td><ul><li>name = \"Yellow Cab Co Inc\"\\naddress = \"106 Tichnor Ave   Prattville AL 36067-3036\"\\nnumber = \"(334) 361-6800\"</li></ul></td>\n",
       "    </tr>\n",
       "    <tr>\n",
       "      <td>socioeconomic</td>\n",
       "      <td><ul><li>Lack of social and emotional support among adults</li></ul></td>\n",
       "      <td><ul><li>name = \"Unity Baptist Adult Day Care\"\\naddress = \"171 Benton Rd   Lowndesboro AL 36752-4711\"\\nnumber = \"(334) 872-9901\"</li></ul></td>\n",
       "    </tr>\n",
       "  </tbody>\n",
       "</table>"
      ],
      "text/plain": [
       "<IPython.core.display.HTML object>"
      ]
     },
     "metadata": {},
     "output_type": "display_data"
    }
   ],
   "source": [
    "summary_df = generate_summary_table(scorecard, input_dict['ZIP'])\n",
    "display_summary_html(summary_df)"
   ]
  },
  {
   "cell_type": "code",
   "execution_count": null,
   "id": "159328e2-847a-4acf-b669-329e593519fd",
   "metadata": {},
   "outputs": [],
   "source": []
  }
 ],
 "metadata": {
  "kernelspec": {
   "display_name": "Python 3 (ipykernel)",
   "language": "python",
   "name": "python3"
  },
  "language_info": {
   "codemirror_mode": {
    "name": "ipython",
    "version": 3
   },
   "file_extension": ".py",
   "mimetype": "text/x-python",
   "name": "python",
   "nbconvert_exporter": "python",
   "pygments_lexer": "ipython3",
   "version": "3.12.1"
  }
 },
 "nbformat": 4,
 "nbformat_minor": 5
}
